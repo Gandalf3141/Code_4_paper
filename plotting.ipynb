{
 "cells": [
  {
   "cell_type": "code",
   "execution_count": null,
   "id": "91fc00b9",
   "metadata": {},
   "outputs": [],
   "source": [
    "import torch\n",
    "from meas_get_data import *\n",
    "from meas_NN_classes import *\n",
    "from meas_dataset import *\n",
    "import os \n",
    "from tqdm import tqdm\n",
    "import logging\n",
    "from meas_test_func_fs import *\n",
    "from meas_dataloader import *\n",
    "from meas_train_funcs import *\n",
    "from model_params import get_model_params\n",
    "torch.set_default_dtype(torch.float64)\n"
   ]
  },
  {
   "cell_type": "code",
   "execution_count": null,
   "id": "932ff1bc",
   "metadata": {},
   "outputs": [],
   "source": [
    "parameter_set = get_model_params(testing_mode=False)\n",
    "model_paths = {\n",
    "    \"OR_LSTM\": r\"C:\\Users\\StrasserP\\Documents\\NN_Paper\\Code_4_paper\\Trained_networks\\modeltype_OR_LSTM_expnumb_640.pth\",\n",
    "    \"OR_MLP\": r\"C:\\Users\\StrasserP\\Documents\\NN_Paper\\Code_4_paper\\Trained_networks\\modeltype_OR_MLP_expnumb_123.pth\",\n",
    "    \"OR_TCN\": r\"C:\\Users\\StrasserP\\Documents\\NN_Paper\\Code_4_paper\\Trained_networks\\modeltype_OR_TCN_expnumb_644.pth\",\n",
    "    \"LSTM\": r\"C:\\Users\\StrasserP\\Documents\\NN_Paper\\Code_4_paper\\Trained_networks\\modeltype_LSTM_expnumb_564.pth\",\n",
    "    \"MLP\": r\"C:\\Users\\StrasserP\\Documents\\NN_Paper\\Code_4_paper\\Trained_networks\\modeltype_MLP_expnumb_367.pth\",\n",
    "    \"TCN\": r\"C:\\Users\\StrasserP\\Documents\\NN_Paper\\Code_4_paper\\Trained_networks\\modeltype_TCN_expnumb_150.pth\"}\n",
    "\n",
    "\n",
    "if os.name == \"nt\":\n",
    "    path_test_data=r\"C:\\Users\\StrasserP\\Documents\\NN_Paper\\Code_4_paper\\messdaten\\TEST-Messdaten_30traj_7times500steps.csv\"\n",
    "else:\n",
    "    path_train_data=r\"/home/rdpusr/Documents/Code_4_paper/messdaten/TEST-Messdaten_30traj_7times500steps.csv\"\n",
    "test_data = get_data(path_test_data,num_inits=0)\n",
    "\n",
    "for parameters in parameter_set:\n",
    "\n",
    "    if not os.path.exists(model_paths[parameters[\"model_flag\"]]):\n",
    "                continue    \n",
    "\n",
    "    if \"LSTM\" in parameters[\"model_flag\"]:\n",
    "        model = OR_LSTM(input_size=4, hidden_size=parameters[\"h_size\"], out_size=2, \n",
    "                        layers=parameters[\"l_num\"], window_size=parameters[\"window_size\"], flag=parameters[\"model_flag\"]).to(device)\n",
    "\n",
    "    if \"MLP\" in parameters[\"model_flag\"]:\n",
    "\n",
    "        model = OR_MLP(input_size=4*parameters[\"window_size\"], hidden_size=parameters[\"h_size\"],\n",
    "                        output_size=2, l_num=parameters[\"l_num\"], window_size=parameters[\"window_size\"], flag=parameters[\"model_flag\"]).to(device)\n",
    "\n",
    "    if \"TCN\" in parameters[\"model_flag\"]:\n",
    "        num_channels = [parameters[\"n_hidden\"]] * parameters[\"levels\"]\n",
    "        model = OR_TCN(input_size=4, output_size=2, num_channels=num_channels,\n",
    "                        kernel_size=parameters[\"kernel_size\"], dropout=parameters[\"dropout\"], windowsize=parameters[\"window_size\"], flag=parameters[\"model_flag\"]).to(device)\n",
    "\n",
    "    model.load_state_dict(torch.load(model_paths[model.get_flag()], map_location=device))\n",
    "\n",
    "    if parameters[\"model_flag\"] != model.get_flag():\n",
    "        print(\"Parameter list model flag does not match the model flag used!\")\n",
    "    print(model.get_flag())\n",
    "    test_error = test(data=test_data, model=model, window_size=parameters[\"window_size\"], specific_index=26, display_plots=1)\n"
   ]
  }
 ],
 "metadata": {
  "kernelspec": {
   "display_name": "my_test_env",
   "language": "python",
   "name": "python3"
  },
  "language_info": {
   "codemirror_mode": {
    "name": "ipython",
    "version": 3
   },
   "file_extension": ".py",
   "mimetype": "text/x-python",
   "name": "python",
   "nbconvert_exporter": "python",
   "pygments_lexer": "ipython3",
   "version": "3.11.7"
  }
 },
 "nbformat": 4,
 "nbformat_minor": 5
}
